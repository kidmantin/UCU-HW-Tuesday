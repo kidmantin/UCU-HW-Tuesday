{
 "cells": [
  {
   "attachments": {},
   "cell_type": "markdown",
   "metadata": {},
   "source": [
    "Acoustic Model. Please read the following definitions and\n",
    "proceed to additional instructions at the end of the file.\n",
    "\n",
    "You will need to install these packages: g2p-en, torch, torchaudio"
   ]
  },
  {
   "cell_type": "code",
   "execution_count": 1,
   "metadata": {},
   "outputs": [],
   "source": [
    "from g2p_en import G2p\n",
    "\n",
    "import torch\n",
    "import torch.nn as nn\n",
    "import torchaudio\n",
    "\n",
    "from praatio import textgrid\n",
    "from praatio.data_classes.interval_tier import Interval\n",
    "from tqdm import tqdm"
   ]
  },
  {
   "cell_type": "code",
   "execution_count": 2,
   "metadata": {},
   "outputs": [],
   "source": [
    "def make_frames(wav):\n",
    "    return torchaudio.compliance.kaldi.mfcc(wav)"
   ]
  },
  {
   "cell_type": "code",
   "execution_count": 3,
   "metadata": {},
   "outputs": [],
   "source": [
    "class LibriSpeech(torch.utils.data.Dataset):\n",
    "    def __init__(self, url='dev-clean'):\n",
    "        super().__init__()\n",
    "        self.librispeech = torchaudio.datasets.LIBRISPEECH('.', url=url, download=True)\n",
    "\n",
    "    def __len__(self):\n",
    "        return len(self.librispeech)\n",
    "\n",
    "    def __getitem__(self, index):\n",
    "        wav, sr, text, speaker_id, chapter_id, utterance_id = self.librispeech[index]\n",
    "        return make_frames(wav), text, (speaker_id, chapter_id, utterance_id) # changed return, if we have those id returning why not use them?"
   ]
  },
  {
   "cell_type": "code",
   "execution_count": 4,
   "metadata": {},
   "outputs": [],
   "source": [
    "class Encoder(nn.Module):\n",
    "    def __init__(self, input_dim=13, subsample_dim=128, hidden_dim=1024):\n",
    "        super().__init__()\n",
    "        self.subsample = nn.Conv1d(input_dim, subsample_dim, 5, stride=4, padding=3)\n",
    "        self.lstm = nn.LSTM(subsample_dim, hidden_dim, batch_first=True, num_layers=3, dropout=0.2)\n",
    "\n",
    "    def subsampled_lengths(self, input_lengths):\n",
    "        # https://github.com/vdumoulin/conv_arithmetic\n",
    "        p, k, s = self.subsample.padding[0], self.subsample.kernel_size[0], self.subsample.stride[0]\n",
    "        o = input_lengths + 2 * p - k\n",
    "        o = torch.floor(o / s + 1)\n",
    "        return o.int()\n",
    "\n",
    "    def forward(self, inputs):\n",
    "        x = inputs\n",
    "        x = self.subsample(x.mT).mT\n",
    "        x = x.relu()\n",
    "        x, _ = self.lstm(x)\n",
    "        return x.relu()"
   ]
  },
  {
   "cell_type": "code",
   "execution_count": 5,
   "metadata": {},
   "outputs": [],
   "source": [
    "class Vocabulary:\n",
    "    def __init__(self):\n",
    "        self.g2p = G2p()\n",
    "\n",
    "        # http://www.speech.cs.cmu.edu/cgi-bin/cmudict\n",
    "        self.rdictionary = [\"ε\", # CTC blank\n",
    "                            \" \",\n",
    "                            \"AA0\", \"AA1\", \"AE0\", \"AE1\", \"AH0\", \"AH1\", \"AO0\", \"AO1\", \"AW0\", \"AW1\", \"AY0\", \"AY1\",\n",
    "                            \"B\", \"CH\", \"D\", \"DH\",\n",
    "                            \"EH0\", \"EH1\", \"ER0\", \"ER1\", \"EY0\", \"EY1\",\n",
    "                            \"F\", \"G\", \"HH\",\n",
    "                            \"IH0\", \"IH1\", \"IY0\", \"IY1\",\n",
    "                            \"JH\", \"K\", \"L\", \"M\", \"N\", \"NG\",\n",
    "                            \"OW0\", \"OW1\", \"OY0\", \"OY1\",\n",
    "                            \"P\", \"R\", \"S\", \"SH\", \"T\", \"TH\",\n",
    "                            \"UH0\", \"UH1\", \"UW0\", \"UW1\",\n",
    "                            \"V\", \"W\", \"Y\", \"Z\", \"ZH\"]\n",
    "\n",
    "        self.dictionary = {c: i for i, c in enumerate(self.rdictionary)}\n",
    "\n",
    "    def __len__(self):\n",
    "        return len(self.rdictionary)\n",
    "\n",
    "    def encode(self, text):\n",
    "        labels = [c.replace('2', '0') for c in self.g2p(text) if c != \"'\"]\n",
    "        targets = torch.LongTensor([self.dictionary[phoneme] for phoneme in labels])\n",
    "        return targets\n",
    "    \n",
    "    def to_phonems(self, tokens): # \n",
    "        return [self.rdictionary[token] for token in tokens]"
   ]
  },
  {
   "cell_type": "code",
   "execution_count": 6,
   "metadata": {},
   "outputs": [],
   "source": [
    "class Recognizer(nn.Module):\n",
    "    def __init__(self, feat_dim=1024, vocab_size=55+1):\n",
    "        super().__init__()\n",
    "        self.classifier = nn.Linear(feat_dim, vocab_size)\n",
    "\n",
    "    def forward(self, features):\n",
    "        features = self.classifier(features)\n",
    "        return features.log_softmax(dim=-1)"
   ]
  },
  {
   "cell_type": "code",
   "execution_count": 7,
   "metadata": {},
   "outputs": [],
   "source": [
    "vocab = Vocabulary()\n",
    "encoder = Encoder()\n",
    "recognizer = Recognizer()"
   ]
  },
  {
   "cell_type": "code",
   "execution_count": 8,
   "metadata": {},
   "outputs": [
    {
     "data": {
      "text/plain": [
       "<All keys matched successfully>"
      ]
     },
     "execution_count": 8,
     "metadata": {},
     "output_type": "execute_result"
    }
   ],
   "source": [
    "ckpt = torch.load('lstm_p3_360+500.pt', map_location='cpu')\n",
    "encoder.load_state_dict(ckpt['encoder'])\n",
    "recognizer.load_state_dict(ckpt['recognizer'])"
   ]
  },
  {
   "cell_type": "code",
   "execution_count": 9,
   "metadata": {},
   "outputs": [],
   "source": [
    "audio_frames, text, IDTuple = LibriSpeech()[0]\n",
    "phonemes = vocab.encode(text)\n",
    "\n",
    "features = encoder(audio_frames)\n",
    "outputs = recognizer.forward(features) # (T, 55+1)\n",
    "\n",
    "#\n",
    "# Your task is to decode a sequence of vocabulary entries from a sequence of distributions\n",
    "# over vocabulary entries (including blank ε that means \"no output\").\n",
    "#\n",
    "# outputs have dimension (T, V) where V is vocab_size+1 and T is time.\n",
    "# outputs[:,0] is the log probability of a blank emission at every time step.\n",
    "#\n",
    "# Because of the subsampling done by Conv1d the time dimension in the outputs is 4 times smaller\n",
    "# than in the inputs.\n",
    "#"
   ]
  },
  {
   "attachments": {},
   "cell_type": "markdown",
   "metadata": {},
   "source": [
    "# bumbla"
   ]
  },
  {
   "cell_type": "code",
   "execution_count": 10,
   "metadata": {},
   "outputs": [
    {
     "name": "stdout",
     "output_type": "stream",
     "text": [
      "text: MISTER QUILTER IS THE APOSTLE OF THE MIDDLE CLASSES AND WE ARE GLAD TO WELCOME HIS GOSPEL\n",
      "true phonemes: MIH1STER0 KWIH1LTER0 IH1Z DHAH0 AH0PAA1SAH0L AH1V DHAH0 MIH1DAH0L KLAE1SAH0Z AH0ND WIY1 AA1R GLAE1D TUW1 WEH1LKAH0M HHIH1Z GAA1SPAH0L\n",
      "pred phonemes (with deleted silence): MIH1SSTER0  KRIH1TER0  IH1Z DHAH0  AH0PPAA1SAH0AH0LL  AH1V DHAH0 MIH1DAH0LL KKLAE1SAH0Z  AH0ND WIH1R  GLLAE1D  TWWWEH1LKAH0M  HHHHIH1Z  GAA1SSPPAH0L\n"
     ]
    }
   ],
   "source": [
    "print(f'text: {text}')\n",
    "print(f'true phonemes: {\"\".join(vocab.to_phonems(phonemes))}')\n",
    "print(f'pred phonemes (with deleted silence): {\"\".join([phonem for phonem in vocab.to_phonems(torch.argmax(outputs, dim=1)) if phonem != \"ε\"])}')"
   ]
  },
  {
   "cell_type": "code",
   "execution_count": 11,
   "metadata": {},
   "outputs": [
    {
     "name": "stderr",
     "output_type": "stream",
     "text": [
      " 14%|█▍        | 384/2703 [03:40<21:54,  1.76it/s]"
     ]
    },
    {
     "name": "stdout",
     "output_type": "stream",
     "text": [
      "problem with intervals: Interval(start=6.44, end=6.44, label='ε'), id: 1988-24833-5\n"
     ]
    },
    {
     "name": "stderr",
     "output_type": "stream",
     "text": [
      " 15%|█▍        | 401/2703 [03:48<18:20,  2.09it/s]"
     ]
    },
    {
     "name": "stdout",
     "output_type": "stream",
     "text": [
      "problem with intervals: Interval(start=2.76, end=2.75, label='AH0'), id: 1988-24833-22\n",
      "Maximum timestamp in Textgrid changed from (2.75) to (2.76)\n"
     ]
    },
    {
     "name": "stderr",
     "output_type": "stream",
     "text": [
      " 26%|██▌       | 700/2703 [06:56<10:32,  3.17it/s]"
     ]
    },
    {
     "name": "stdout",
     "output_type": "stream",
     "text": [
      "problem with intervals: Interval(start=2.88, end=2.88, label='ε'), id: 2277-149896-28\n"
     ]
    },
    {
     "name": "stderr",
     "output_type": "stream",
     "text": [
      " 28%|██▊       | 757/2703 [07:26<23:35,  1.38it/s]"
     ]
    },
    {
     "name": "stdout",
     "output_type": "stream",
     "text": [
      "problem with intervals: Interval(start=1.96, end=1.96, label='ε'), id: 2412-153947-12\n"
     ]
    },
    {
     "name": "stderr",
     "output_type": "stream",
     "text": [
      " 28%|██▊       | 767/2703 [07:34<23:31,  1.37it/s]"
     ]
    },
    {
     "name": "stdout",
     "output_type": "stream",
     "text": [
      "problem with intervals: Interval(start=3.12, end=3.12, label='ε'), id: 2412-153948-5\n"
     ]
    },
    {
     "name": "stderr",
     "output_type": "stream",
     "text": [
      " 30%|██▉       | 805/2703 [07:59<17:53,  1.77it/s]"
     ]
    },
    {
     "name": "stdout",
     "output_type": "stream",
     "text": [
      "problem with intervals: Interval(start=4.24, end=4.24, label='G'), id: 2428-83699-2\n"
     ]
    },
    {
     "name": "stderr",
     "output_type": "stream",
     "text": [
      " 30%|███       | 817/2703 [08:04<10:01,  3.13it/s]"
     ]
    },
    {
     "name": "stdout",
     "output_type": "stream",
     "text": [
      "problem with intervals: Interval(start=3.28, end=3.27, label='AH0'), id: 2428-83699-13\n",
      "Maximum timestamp in Textgrid changed from (3.27) to (3.28)\n"
     ]
    },
    {
     "name": "stderr",
     "output_type": "stream",
     "text": [
      " 32%|███▏      | 872/2703 [08:31<22:19,  1.37it/s]"
     ]
    },
    {
     "name": "stdout",
     "output_type": "stream",
     "text": [
      "problem with intervals: Interval(start=10.2, end=10.19, label='NG'), id: 2428-83705-26\n",
      "Maximum timestamp in Textgrid changed from (10.19) to (10.2)\n"
     ]
    },
    {
     "name": "stderr",
     "output_type": "stream",
     "text": [
      " 37%|███▋      | 990/2703 [09:38<15:50,  1.80it/s]"
     ]
    },
    {
     "name": "stdout",
     "output_type": "stream",
     "text": [
      "problem with intervals: Interval(start=6.32, end=6.32, label='ε'), id: 2803-154328-10\n"
     ]
    },
    {
     "name": "stderr",
     "output_type": "stream",
     "text": [
      " 42%|████▏     | 1140/2703 [11:39<15:26,  1.69it/s]"
     ]
    },
    {
     "name": "stdout",
     "output_type": "stream",
     "text": [
      "problem with intervals: Interval(start=2.72, end=2.71, label='ε'), id: 3081-166546-33\n",
      "Maximum timestamp in Textgrid changed from (2.71) to (2.72)\n"
     ]
    },
    {
     "name": "stderr",
     "output_type": "stream",
     "text": [
      " 43%|████▎     | 1170/2703 [11:51<09:52,  2.59it/s]"
     ]
    },
    {
     "name": "stdout",
     "output_type": "stream",
     "text": [
      "problem with intervals: Interval(start=1.72, end=1.72, label='ε'), id: 3081-166546-63\n"
     ]
    },
    {
     "name": "stderr",
     "output_type": "stream",
     "text": [
      " 44%|████▍     | 1183/2703 [11:57<09:54,  2.55it/s]"
     ]
    },
    {
     "name": "stdout",
     "output_type": "stream",
     "text": [
      "problem with intervals: Interval(start=1.92, end=1.92, label='ε'), id: 3081-166546-76\n"
     ]
    },
    {
     "name": "stderr",
     "output_type": "stream",
     "text": [
      " 48%|████▊     | 1286/2703 [13:17<13:30,  1.75it/s]"
     ]
    },
    {
     "name": "stdout",
     "output_type": "stream",
     "text": [
      "problem with intervals: Interval(start=2.0, end=1.99, label='ε'), id: 3536-8226-9\n",
      "Maximum timestamp in Textgrid changed from (1.99) to (2.0)\n"
     ]
    },
    {
     "name": "stderr",
     "output_type": "stream",
     "text": [
      " 48%|████▊     | 1287/2703 [13:18<16:32,  1.43it/s]"
     ]
    },
    {
     "name": "stdout",
     "output_type": "stream",
     "text": [
      "problem with intervals: Interval(start=9.48, end=9.48, label='N'), id: 3536-8226-10\n"
     ]
    },
    {
     "name": "stderr",
     "output_type": "stream",
     "text": [
      " 51%|█████     | 1375/2703 [14:20<09:17,  2.38it/s]"
     ]
    },
    {
     "name": "stdout",
     "output_type": "stream",
     "text": [
      "problem with intervals: Interval(start=5.64, end=5.64, label='ε'), id: 3752-4943-24\n"
     ]
    },
    {
     "name": "stderr",
     "output_type": "stream",
     "text": [
      " 51%|█████▏    | 1390/2703 [14:25<05:29,  3.98it/s]"
     ]
    },
    {
     "name": "stdout",
     "output_type": "stream",
     "text": [
      "problem with intervals: Interval(start=1.92, end=1.92, label='IY0'), id: 3752-4944-8\n"
     ]
    },
    {
     "name": "stderr",
     "output_type": "stream",
     "text": [
      " 52%|█████▏    | 1397/2703 [14:27<07:09,  3.04it/s]"
     ]
    },
    {
     "name": "stdout",
     "output_type": "stream",
     "text": [
      "problem with intervals: Interval(start=4.12, end=4.12, label='ε'), id: 3752-4944-15\n"
     ]
    },
    {
     "name": "stderr",
     "output_type": "stream",
     "text": [
      " 52%|█████▏    | 1419/2703 [14:39<08:29,  2.52it/s]"
     ]
    },
    {
     "name": "stdout",
     "output_type": "stream",
     "text": [
      "problem with intervals: Interval(start=2.56, end=2.56, label='IY0'), id: 3752-4944-37\n"
     ]
    },
    {
     "name": "stderr",
     "output_type": "stream",
     "text": [
      " 53%|█████▎    | 1440/2703 [14:47<05:59,  3.51it/s]"
     ]
    },
    {
     "name": "stdout",
     "output_type": "stream",
     "text": [
      "problem with intervals: Interval(start=2.52, end=2.52, label='ε'), id: 3752-4944-57\n"
     ]
    },
    {
     "name": "stderr",
     "output_type": "stream",
     "text": [
      " 54%|█████▎    | 1449/2703 [14:50<08:37,  2.42it/s]"
     ]
    },
    {
     "name": "stdout",
     "output_type": "stream",
     "text": [
      "problem with intervals: Interval(start=2.68, end=2.68, label='ε'), id: 3752-4944-67\n"
     ]
    },
    {
     "name": "stderr",
     "output_type": "stream",
     "text": [
      " 54%|█████▍    | 1459/2703 [14:58<12:27,  1.67it/s]"
     ]
    },
    {
     "name": "stdout",
     "output_type": "stream",
     "text": [
      "problem with intervals: Interval(start=5.48, end=5.48, label='ε'), id: 3853-163249-7\n"
     ]
    },
    {
     "name": "stderr",
     "output_type": "stream",
     "text": [
      " 54%|█████▍    | 1462/2703 [14:59<12:36,  1.64it/s]"
     ]
    },
    {
     "name": "stdout",
     "output_type": "stream",
     "text": [
      "problem with intervals: Interval(start=10.16, end=10.16, label='ε'), id: 3853-163249-10\n"
     ]
    },
    {
     "name": "stderr",
     "output_type": "stream",
     "text": [
      " 54%|█████▍    | 1467/2703 [15:03<13:02,  1.58it/s]"
     ]
    },
    {
     "name": "stdout",
     "output_type": "stream",
     "text": [
      "problem with intervals: Interval(start=2.28, end=2.28, label='S'), id: 3853-163249-15\n"
     ]
    },
    {
     "name": "stderr",
     "output_type": "stream",
     "text": [
      " 59%|█████▊    | 1584/2703 [16:44<09:08,  2.04it/s]"
     ]
    },
    {
     "name": "stdout",
     "output_type": "stream",
     "text": [
      "problem with intervals: Interval(start=1.84, end=1.83, label='ε'), id: 5338-284437-14\n",
      "Maximum timestamp in Textgrid changed from (1.83) to (1.84)\n"
     ]
    },
    {
     "name": "stderr",
     "output_type": "stream",
     "text": [
      " 59%|█████▉    | 1595/2703 [16:49<08:08,  2.27it/s]"
     ]
    },
    {
     "name": "stdout",
     "output_type": "stream",
     "text": [
      "problem with intervals: Interval(start=1.92, end=1.92, label='ε'), id: 5338-284437-25\n"
     ]
    },
    {
     "name": "stderr",
     "output_type": "stream",
     "text": [
      " 59%|█████▉    | 1599/2703 [16:52<11:05,  1.66it/s]"
     ]
    },
    {
     "name": "stdout",
     "output_type": "stream",
     "text": [
      "problem with intervals: Interval(start=7.56, end=7.56, label='T'), id: 5338-284437-29\n"
     ]
    },
    {
     "name": "stderr",
     "output_type": "stream",
     "text": [
      " 60%|██████    | 1630/2703 [17:13<10:33,  1.69it/s]"
     ]
    },
    {
     "name": "stdout",
     "output_type": "stream",
     "text": [
      "problem with intervals: Interval(start=4.32, end=4.32, label='T'), id: 5536-43359-6\n"
     ]
    },
    {
     "name": "stderr",
     "output_type": "stream",
     "text": [
      " 62%|██████▏   | 1667/2703 [17:39<08:01,  2.15it/s]"
     ]
    },
    {
     "name": "stdout",
     "output_type": "stream",
     "text": [
      "problem with intervals: Interval(start=3.68, end=3.68, label='NG'), id: 5694-64025-4\n"
     ]
    },
    {
     "name": "stderr",
     "output_type": "stream",
     "text": [
      " 63%|██████▎   | 1695/2703 [17:54<06:46,  2.48it/s]"
     ]
    },
    {
     "name": "stdout",
     "output_type": "stream",
     "text": [
      "problem with intervals: Interval(start=3.0, end=3.0, label='T'), id: 5694-64029-8\n"
     ]
    },
    {
     "name": "stderr",
     "output_type": "stream",
     "text": [
      " 63%|██████▎   | 1705/2703 [17:58<06:29,  2.56it/s]"
     ]
    },
    {
     "name": "stdout",
     "output_type": "stream",
     "text": [
      "problem with intervals: Interval(start=2.48, end=2.47, label='K'), id: 5694-64029-18\n",
      "Maximum timestamp in Textgrid changed from (2.47) to (2.48)\n"
     ]
    },
    {
     "name": "stderr",
     "output_type": "stream",
     "text": [
      " 69%|██████▉   | 1861/2703 [19:19<07:17,  1.92it/s]"
     ]
    },
    {
     "name": "stdout",
     "output_type": "stream",
     "text": [
      "problem with intervals: Interval(start=6.0, end=6.0, label='T'), id: 6241-61946-7\n"
     ]
    },
    {
     "name": "stderr",
     "output_type": "stream",
     "text": [
      " 71%|███████   | 1918/2703 [19:52<07:23,  1.77it/s]"
     ]
    },
    {
     "name": "stdout",
     "output_type": "stream",
     "text": [
      "problem with intervals: Interval(start=2.0, end=2.0, label='ε'), id: 6295-244435-14\n"
     ]
    },
    {
     "name": "stderr",
     "output_type": "stream",
     "text": [
      " 71%|███████   | 1925/2703 [19:57<08:12,  1.58it/s]"
     ]
    },
    {
     "name": "stdout",
     "output_type": "stream",
     "text": [
      "problem with intervals: Interval(start=2.96, end=2.95, label='ε'), id: 6295-244435-21\n",
      "Maximum timestamp in Textgrid changed from (2.95) to (2.96)\n"
     ]
    },
    {
     "name": "stderr",
     "output_type": "stream",
     "text": [
      " 71%|███████▏  | 1927/2703 [19:58<08:18,  1.56it/s]"
     ]
    },
    {
     "name": "stdout",
     "output_type": "stream",
     "text": [
      "problem with intervals: Interval(start=3.4, end=3.39, label='ε'), id: 6295-244435-23\n",
      "Maximum timestamp in Textgrid changed from (3.39) to (3.4)\n"
     ]
    },
    {
     "name": "stderr",
     "output_type": "stream",
     "text": [
      " 73%|███████▎  | 1986/2703 [20:33<04:33,  2.62it/s]"
     ]
    },
    {
     "name": "stdout",
     "output_type": "stream",
     "text": [
      "problem with intervals: Interval(start=4.48, end=4.47, label='ε'), id: 6313-66125-8\n",
      "Maximum timestamp in Textgrid changed from (4.47) to (4.48)\n"
     ]
    },
    {
     "name": "stderr",
     "output_type": "stream",
     "text": [
      " 74%|███████▍  | 1997/2703 [20:37<04:37,  2.55it/s]"
     ]
    },
    {
     "name": "stdout",
     "output_type": "stream",
     "text": [
      "problem with intervals: Interval(start=4.68, end=4.67, label='ε'), id: 6313-66125-19\n",
      "Maximum timestamp in Textgrid changed from (4.67) to (4.68)\n"
     ]
    },
    {
     "name": "stderr",
     "output_type": "stream",
     "text": [
      " 74%|███████▍  | 2002/2703 [20:39<05:57,  1.96it/s]"
     ]
    },
    {
     "name": "stdout",
     "output_type": "stream",
     "text": [
      "problem with intervals: Interval(start=4.4, end=4.39, label='ε'), id: 6313-66125-24\n",
      "Maximum timestamp in Textgrid changed from (4.39) to (4.4)\n"
     ]
    },
    {
     "name": "stderr",
     "output_type": "stream",
     "text": [
      " 74%|███████▍  | 2013/2703 [20:45<04:26,  2.59it/s]"
     ]
    },
    {
     "name": "stdout",
     "output_type": "stream",
     "text": [
      "problem with intervals: Interval(start=2.44, end=2.44, label='ε'), id: 6313-66129-7\n"
     ]
    },
    {
     "name": "stderr",
     "output_type": "stream",
     "text": [
      " 75%|███████▍  | 2015/2703 [20:46<05:06,  2.25it/s]"
     ]
    },
    {
     "name": "stdout",
     "output_type": "stream",
     "text": [
      "problem with intervals: Interval(start=4.76, end=4.76, label='ε'), id: 6313-66129-9\n"
     ]
    },
    {
     "name": "stderr",
     "output_type": "stream",
     "text": [
      " 75%|███████▍  | 2017/2703 [20:47<04:17,  2.67it/s]"
     ]
    },
    {
     "name": "stdout",
     "output_type": "stream",
     "text": [
      "problem with intervals: Interval(start=2.2, end=2.2, label='Z'), id: 6313-66129-11\n"
     ]
    },
    {
     "name": "stderr",
     "output_type": "stream",
     "text": [
      " 75%|███████▌  | 2038/2703 [20:58<04:49,  2.30it/s]"
     ]
    },
    {
     "name": "stdout",
     "output_type": "stream",
     "text": [
      "problem with intervals: Interval(start=1.84, end=1.84, label='IY0'), id: 6313-66129-32\n"
     ]
    },
    {
     "name": "stderr",
     "output_type": "stream",
     "text": [
      " 76%|███████▌  | 2049/2703 [21:03<04:01,  2.71it/s]"
     ]
    },
    {
     "name": "stdout",
     "output_type": "stream",
     "text": [
      "problem with intervals: Interval(start=3.68, end=3.68, label='AH0'), id: 6313-76958-7\n"
     ]
    },
    {
     "name": "stderr",
     "output_type": "stream",
     "text": [
      " 76%|███████▌  | 2061/2703 [21:09<04:26,  2.41it/s]"
     ]
    },
    {
     "name": "stdout",
     "output_type": "stream",
     "text": [
      "problem with intervals: Interval(start=3.08, end=3.08, label='ε'), id: 6313-76958-19\n"
     ]
    },
    {
     "name": "stderr",
     "output_type": "stream",
     "text": [
      " 80%|███████▉  | 2160/2703 [22:11<03:40,  2.46it/s]"
     ]
    },
    {
     "name": "stdout",
     "output_type": "stream",
     "text": [
      "problem with intervals: Interval(start=4.44, end=4.43, label='ε'), id: 6345-93302-10\n",
      "Maximum timestamp in Textgrid changed from (4.43) to (4.44)\n"
     ]
    },
    {
     "name": "stderr",
     "output_type": "stream",
     "text": [
      " 80%|███████▉  | 2161/2703 [22:12<03:10,  2.85it/s]"
     ]
    },
    {
     "name": "stdout",
     "output_type": "stream",
     "text": [
      "problem with intervals: Interval(start=2.12, end=2.11, label='D'), id: 6345-93302-11\n",
      "Maximum timestamp in Textgrid changed from (2.11) to (2.12)\n"
     ]
    },
    {
     "name": "stderr",
     "output_type": "stream",
     "text": [
      " 80%|████████  | 2164/2703 [22:13<03:34,  2.51it/s]"
     ]
    },
    {
     "name": "stdout",
     "output_type": "stream",
     "text": [
      "problem with intervals: Interval(start=6.08, end=6.08, label='ε'), id: 6345-93302-14\n"
     ]
    },
    {
     "name": "stderr",
     "output_type": "stream",
     "text": [
      " 80%|████████  | 2172/2703 [22:17<03:13,  2.74it/s]"
     ]
    },
    {
     "name": "stdout",
     "output_type": "stream",
     "text": [
      "problem with intervals: Interval(start=2.56, end=2.55, label='ε'), id: 6345-93302-22\n",
      "Maximum timestamp in Textgrid changed from (2.55) to (2.56)\n"
     ]
    },
    {
     "name": "stderr",
     "output_type": "stream",
     "text": [
      " 80%|████████  | 2173/2703 [22:17<03:37,  2.43it/s]"
     ]
    },
    {
     "name": "stdout",
     "output_type": "stream",
     "text": [
      "problem with intervals: Interval(start=5.52, end=5.51, label='ε'), id: 6345-93302-23\n",
      "Maximum timestamp in Textgrid changed from (5.51) to (5.52)\n"
     ]
    },
    {
     "name": "stderr",
     "output_type": "stream",
     "text": [
      " 80%|████████  | 2174/2703 [22:17<03:15,  2.70it/s]"
     ]
    },
    {
     "name": "stdout",
     "output_type": "stream",
     "text": [
      "problem with intervals: Interval(start=2.52, end=2.52, label='ε'), id: 6345-93302-24\n"
     ]
    },
    {
     "name": "stderr",
     "output_type": "stream",
     "text": [
      " 81%|████████  | 2179/2703 [22:20<05:06,  1.71it/s]"
     ]
    },
    {
     "name": "stdout",
     "output_type": "stream",
     "text": [
      "problem with intervals: Interval(start=13.12, end=13.12, label='ε'), id: 6345-93302-29\n"
     ]
    },
    {
     "name": "stderr",
     "output_type": "stream",
     "text": [
      " 81%|████████  | 2187/2703 [22:26<04:24,  1.95it/s]"
     ]
    },
    {
     "name": "stdout",
     "output_type": "stream",
     "text": [
      "problem with intervals: Interval(start=5.12, end=5.11, label='ε'), id: 6345-93306-7\n",
      "Maximum timestamp in Textgrid changed from (5.11) to (5.12)\n"
     ]
    },
    {
     "name": "stderr",
     "output_type": "stream",
     "text": [
      " 81%|████████  | 2192/2703 [22:27<02:57,  2.88it/s]"
     ]
    },
    {
     "name": "stdout",
     "output_type": "stream",
     "text": [
      "problem with intervals: Interval(start=2.56, end=2.55, label='ε'), id: 6345-93306-12\n",
      "Maximum timestamp in Textgrid changed from (2.55) to (2.56)\n"
     ]
    },
    {
     "name": "stderr",
     "output_type": "stream",
     "text": [
      " 83%|████████▎ | 2256/2703 [23:09<04:24,  1.69it/s]"
     ]
    },
    {
     "name": "stdout",
     "output_type": "stream",
     "text": [
      "problem with intervals: Interval(start=7.76, end=7.76, label='ε'), id: 652-130726-29\n"
     ]
    },
    {
     "name": "stderr",
     "output_type": "stream",
     "text": [
      " 83%|████████▎ | 2257/2703 [23:09<03:44,  1.98it/s]"
     ]
    },
    {
     "name": "stdout",
     "output_type": "stream",
     "text": [
      "problem with intervals: Interval(start=2.84, end=2.83, label='ε'), id: 652-130726-30\n",
      "Maximum timestamp in Textgrid changed from (2.83) to (2.84)\n"
     ]
    },
    {
     "name": "stderr",
     "output_type": "stream",
     "text": [
      " 84%|████████▎ | 2262/2703 [23:12<04:24,  1.67it/s]"
     ]
    },
    {
     "name": "stdout",
     "output_type": "stream",
     "text": [
      "problem with intervals: Interval(start=5.08, end=5.07, label='ε'), id: 652-130726-35\n",
      "Maximum timestamp in Textgrid changed from (5.07) to (5.08)\n"
     ]
    },
    {
     "name": "stderr",
     "output_type": "stream",
     "text": [
      " 91%|█████████ | 2448/2703 [24:52<02:08,  1.99it/s]"
     ]
    },
    {
     "name": "stdout",
     "output_type": "stream",
     "text": [
      "problem with intervals: Interval(start=1.92, end=1.92, label='ε'), id: 7976-105575-17\n"
     ]
    },
    {
     "name": "stderr",
     "output_type": "stream",
     "text": [
      " 93%|█████████▎| 2503/2703 [25:23<01:51,  1.79it/s]"
     ]
    },
    {
     "name": "stdout",
     "output_type": "stream",
     "text": [
      "problem with intervals: Interval(start=3.12, end=3.12, label='ε'), id: 7976-110523-16\n"
     ]
    },
    {
     "name": "stderr",
     "output_type": "stream",
     "text": [
      " 96%|█████████▌| 2592/2703 [26:13<01:00,  1.83it/s]"
     ]
    },
    {
     "name": "stdout",
     "output_type": "stream",
     "text": [
      "problem with intervals: Interval(start=7.0, end=7.0, label='V'), id: 84-121123-8\n"
     ]
    },
    {
     "name": "stderr",
     "output_type": "stream",
     "text": [
      " 96%|█████████▌| 2595/2703 [26:14<00:47,  2.27it/s]"
     ]
    },
    {
     "name": "stdout",
     "output_type": "stream",
     "text": [
      "problem with intervals: Interval(start=3.24, end=3.23, label='IY0'), id: 84-121123-11\n",
      "Maximum timestamp in Textgrid changed from (3.23) to (3.24)\n"
     ]
    },
    {
     "name": "stderr",
     "output_type": "stream",
     "text": [
      " 97%|█████████▋| 2614/2703 [26:24<00:53,  1.68it/s]"
     ]
    },
    {
     "name": "stdout",
     "output_type": "stream",
     "text": [
      "problem with intervals: Interval(start=7.96, end=7.96, label='ε'), id: 84-121550-1\n"
     ]
    },
    {
     "name": "stderr",
     "output_type": "stream",
     "text": [
      " 97%|█████████▋| 2617/2703 [26:26<00:53,  1.61it/s]"
     ]
    },
    {
     "name": "stdout",
     "output_type": "stream",
     "text": [
      "problem with intervals: Interval(start=7.96, end=7.95, label='T'), id: 84-121550-4\n",
      "Maximum timestamp in Textgrid changed from (7.95) to (7.96)\n"
     ]
    },
    {
     "name": "stderr",
     "output_type": "stream",
     "text": [
      " 99%|█████████▉| 2685/2703 [27:15<00:09,  1.83it/s]"
     ]
    },
    {
     "name": "stdout",
     "output_type": "stream",
     "text": [
      "problem with intervals: Interval(start=3.68, end=3.68, label='ε'), id: 8842-302203-7\n"
     ]
    },
    {
     "name": "stderr",
     "output_type": "stream",
     "text": [
      "100%|██████████| 2703/2703 [27:29<00:00,  1.64it/s]\n"
     ]
    }
   ],
   "source": [
    "for audio_frames, text, IDTuple in tqdm(LibriSpeech()):\n",
    "    features = encoder(audio_frames)\n",
    "    outputs = recognizer.forward(features)\n",
    "\n",
    "    tg = textgrid.Textgrid(minTimestamp=0, maxTimestamp=audio_frames.size()[0]/100) # length from 0 to length of audio_file in seconds\n",
    "\n",
    "    phones_tier = textgrid.IntervalTier('phonemes', [], 0, audio_frames.size()[0]/100)\n",
    "\n",
    "    intervals = []\n",
    "    decoded_output_tokens = vocab.to_phonems(torch.argmax(outputs, dim=1))\n",
    "    prev_token, prev_start = None, 0\n",
    "\n",
    "    for i, token in enumerate(decoded_output_tokens):\n",
    "        if prev_token != token and prev_token:\n",
    "            intervals.append(Interval(prev_start, i/25, prev_token)) # since output frame is 25 frames per second we divide i by 25\n",
    "            prev_token = token\n",
    "            prev_start = i/25\n",
    "        elif not prev_token:\n",
    "            prev_token = token\n",
    "    if prev_token:\n",
    "        intervals.append(Interval(prev_start, tg.maxTimestamp, prev_token))\n",
    "    try:\n",
    "        new_phonemes_tier = phones_tier.new(entries=intervals)\n",
    "        tg.addTier(new_phonemes_tier)\n",
    "    except:\n",
    "        print(f'problem with intervals: {intervals[-1]}, id: {IDTuple[0]}-{IDTuple[1]}-{IDTuple[2]}')\n",
    "        intervals = intervals[:-1]\n",
    "        new_phonemes_tier = phones_tier.new(entries=intervals)\n",
    "        tg.addTier(new_phonemes_tier)\n",
    "    finally:\n",
    "        tg.save(f'textgrids/{IDTuple[0]}-{IDTuple[1]}-{IDTuple[2]}.TextGrid',\n",
    "                includeBlankSpaces=True,\n",
    "                format='long_textgrid',\n",
    "                reportingMode='error')"
   ]
  }
 ],
 "metadata": {
  "kernelspec": {
   "display_name": "fullds",
   "language": "python",
   "name": "python3"
  },
  "language_info": {
   "codemirror_mode": {
    "name": "ipython",
    "version": 3
   },
   "file_extension": ".py",
   "mimetype": "text/x-python",
   "name": "python",
   "nbconvert_exporter": "python",
   "pygments_lexer": "ipython3",
   "version": "3.8.15"
  },
  "orig_nbformat": 4
 },
 "nbformat": 4,
 "nbformat_minor": 2
}
